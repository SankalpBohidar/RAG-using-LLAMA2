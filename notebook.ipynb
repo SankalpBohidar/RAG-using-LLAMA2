{
 "cells": [
  {
   "cell_type": "code",
   "execution_count": 1,
   "metadata": {},
   "outputs": [],
   "source": [
    "import os\n",
    "#MODEL = \"mixtral:8x7b\"\n",
    "MODEL = \"llama2\""
   ]
  },
  {
   "cell_type": "code",
   "execution_count": 2,
   "metadata": {},
   "outputs": [
    {
     "data": {
      "text/plain": [
       "\"\\nSure! Here's a classic one:\\n\\nWhy don't scientists trust atoms?\\nBecause they make up everything!\\n\\nI hope that made you smile!\""
      ]
     },
     "execution_count": 2,
     "metadata": {},
     "output_type": "execute_result"
    }
   ],
   "source": [
    "from langchain_community.llms import Ollama\n",
    "from langchain_community.embeddings import OllamaEmbeddings\n",
    "\n",
    "if MODEL.startswith(\"mixtral:8x7b\"):\n",
    "    model = Ollama(model=MODEL)\n",
    "    embeddings = OllamaEmbeddings()\n",
    "else:\n",
    "     model = Ollama(model=MODEL)\n",
    "     embeddings = OllamaEmbeddings()\n",
    "model.invoke(\"tell me a joke\")"
   ]
  },
  {
   "cell_type": "code",
   "execution_count": 3,
   "metadata": {},
   "outputs": [
    {
     "data": {
      "text/plain": [
       "\"\\nWhy don't scientists trust atoms? Because they make up everything! 😂\""
      ]
     },
     "execution_count": 3,
     "metadata": {},
     "output_type": "execute_result"
    }
   ],
   "source": [
    "from langchain_core.output_parsers import StrOutputParser\n",
    "\n",
    "parser = StrOutputParser()\n",
    "\n",
    "chain = model | parser\n",
    "chain.invoke(\"tell me a joke\")"
   ]
  },
  {
   "cell_type": "code",
   "execution_count": 5,
   "metadata": {},
   "outputs": [
    {
     "data": {
      "text/plain": [
       "[Document(page_content=\"Climate Change  \\nClimate change is one of the most significant and pressing issues of our time, \\naffecting every aspect of our lives, from the environment to the economy, \\nhealth, and security. It refers to the long -term alteration of temperature and \\ntypical weather patterns  in a place. While climate change is a natural \\nphenomenon, human activities, particularly since the Industrial Revolution, \\nhave significantly accelerated its pace, leading to unprecedented and \\npotentially catastrophic changes in the Earth's climate system.  \\n \\nThe scientific consensus on climate change is clear: the Earth's climate is \\nwarming, and human activities are the primary driver. The Intergovernmental \\nPanel on Climate Change (IPCC), a leading authority on climate science, has \\nreported that global tempera tures have risen by approximately 1.2 degrees \\nCelsius (2.2 degrees Fahrenheit) since the late 19th century. This warming \\ntrend is largely due to the increased concentration of greenhouse gases in the \\natmosphere, primarily carbon dioxide (CO2), methane (CH4 ), and nitrous oxide \\n(N2O), which trap heat from the sun and prevent it from escaping back into \\nspace.  \\n \\nThe burning of fossil fuels such as coal, oil, and natural gas for energy and \\ntransportation is the largest source of greenhouse gas emissions. \\nDeforestation, agriculture, and industrial processes also contribute significantly \\nto these emissions. The incre ase in greenhouse gases enhances the natural \\ngreenhouse effect, leading to a warming of the Earth's surface and \\natmosphere. This warming has far -reaching impacts on the planet's climate and \\necosystems.  \\n \\nOne of the most visible and immediate effects of climate change is the increase \\nin extreme weather events. Heatwaves are becoming more frequent and \\nsevere, causing widespread health problems and increasing the risk of \\nwildfires. Heavy rainfall and flooding  events are also on the rise, leading to \\nsignificant damage to infrastructure, homes, and crops. Conversely, some \\nregions are experiencing more prolonged droughts, which threaten water \\nsupplies and agricultural productivity.\", metadata={'source': 'Climate Change.pdf', 'page': 0}),\n",
       " Document(page_content='Climate change is also causing long -term changes in weather patterns. For \\nexample, many regions are experiencing shifts in their seasonal cycles, with \\nspring arriving earlier and winters becoming milder. These changes can disrupt \\necosystems and agriculture , as plants and animals may not be able to adapt \\nquickly enough to the new conditions.  \\n \\nOne of the most concerning impacts of climate change is sea -level rise, driven \\nby the melting of polar ice caps and glaciers, as well as the thermal expansion \\nof seawater as it warms. Sea levels have already risen by about 20 centimeters \\n(8 inches) since t he late 19th century, and the rate of rise is accelerating. This \\nposes a significant threat to coastal communities, as rising seas can lead to \\nmore frequent and severe coastal flooding, erosion, and saltwater intrusion \\ninto freshwater resources.  \\n \\nThe warming of the planet also has profound effects on the natural world. \\nMany species are being forced to migrate to higher altitudes or latitudes in \\nsearch of suitable habitats, and some are facing extinction due to the rapid \\npace of change. Coral reefs,  which are particularly sensitive to temperature \\nchanges, are experiencing widespread bleaching and die -offs, threatening the \\ndiverse marine life that depends on them. Ocean acidification, caused by the \\nabsorption of excess CO2 by seawater, further exacerb ates the stress on marine \\necosystems, particularly shellfish and other organisms that rely on calcium \\ncarbonate for their shells and skeletons.  \\n \\nHuman health is also at risk due to climate change. Rising temperatures can \\nexacerbate respiratory and cardiovascular diseases, increase the prevalence of \\nheat -related illnesses, and extend the range of disease -carrying insects like \\nmosquitoes, leading to the spread of diseases such as malaria and dengue \\nfever. Additionally, extreme weather events can cause injury, displacement, and \\nmental health issues.  \\n \\nThe economic impacts of climate change are significant and wide -ranging. \\nAgriculture, which is highly dependent on climate conditions, is particularly', metadata={'source': 'Climate Change.pdf', 'page': 1}),\n",
       " Document(page_content='vulnerable. Changes in temperature and precipitation patterns can reduce crop \\nyields, disrupt food supply chains, and increase the risk of food insecurity. The \\nfishing industry is also affected, as changing ocean temperatures and \\nacidification impact fish populations and marine ecosystems. Furthermore, the \\nincreased frequency and severity of extreme weather events can cause \\nextensive damage to infrastructure, homes, and businesses, leading to \\nsubstantial economic losses.  \\n \\nAddressing climate change requires a comprehensive and multi -faceted \\napproach that includes both mitigation and adaptation strategies. Mitigation \\ninvolves reducing greenhouse gas emissions to limit the extent of future \\nclimate change. This can be achieved through various means, such as \\ntransitioning to renewable energy sources like solar, wind, and hydropower, \\nimproving energy efficiency in buildings, transportation, and industry, and \\nprotecting and restoring forests and other natural carbon sinks.  \\n \\nCarbon pricing mechanisms, such as carbon taxes and cap -and-trade systems, \\nare also essential tools for reducing emissions. By putting a price on carbon, \\nthese mechanisms create financial incentives for businesses and individuals to \\nreduce their carbon foo tprint. Additionally, technological innovations, such as \\ncarbon capture and storage (CCS), which involves capturing CO2 emissions \\nfrom power plants and industrial processes and storing them underground, can \\nplay a critical role in mitigating climate change . \\n \\nAdaptation, on the other hand, involves making adjustments to social, \\neconomic, and environmental practices to minimize the damage caused by \\nclimate change and take advantage of any potential benefits. This includes \\nbuilding resilient infrastructure that c an withstand extreme weather events, \\ndeveloping drought -resistant crops, and implementing water management \\npractices that ensure a reliable water supply in the face of changing \\nprecipitation patterns.  \\n \\nUrban planning is also crucial for adaptation. Cities can reduce their \\nvulnerability to climate change by integrating green infrastructure, such as', metadata={'source': 'Climate Change.pdf', 'page': 2}),\n",
       " Document(page_content=\"parks, green roofs, and permeable pavements, which can help manage \\nstormwater, reduce urban heat islands, and improve air quality. Coastal \\ncommunities can invest in protective measures, such as seawalls, flood \\nbarriers, and managed retreat, to address the risks posed by sea -level rise.  \\n \\nInternational cooperation is vital for effectively addressing climate change, as it \\nis a global issue that requires coordinated efforts across countries. The Paris \\nAgreement, adopted in 2015, represents a significant milestone in global \\nclimate action. Und er this agreement, countries have committed to limit global \\nwarming to well below 2 degrees Celsius above pre -industrial levels, with \\nefforts to limit the increase to 1.5 degrees Celsius. The agreement also \\nemphasizes the importance of adaptation, financia l support for developing \\ncountries, and regular monitoring and reporting of progress.  \\n \\nNational governments play a critical role in implementing climate policies and \\nregulations that align with their international commitments. For example, the \\nEuropean Union has set ambitious targets to reduce greenhouse gas emissions, \\nincrease renewable ene rgy use, and improve energy efficiency through its \\nEuropean Green Deal. In the United States, the Inflation Reduction Act of 2022 \\nincludes measures to reduce emissions, promote clean energy, and enhance \\nclimate resilience. China, the world's largest emitte r of greenhouse gases, has \\ncommitted to reaching peak emissions by 2030 and achieving carbon neutrality \\nby 2060.  \\n \\nLocal governments and communities also have an essential role in climate \\naction. Cities around the world are taking innovative approaches to reduce \\ntheir carbon footprint and increase resilience. For example, some cities are \\ninvesting in sustainable public  transportation systems, promoting electric \\nvehicles, and implementing energy -efficient building codes. Community -based \\ninitiatives, such as urban gardens, renewable energy cooperatives, and local \\nconservation efforts, can also contribute to climate mitiga tion and adaptation.  \\n \\nPublic awareness and education are crucial for building support for climate \\naction and encouraging sustainable behaviors. Schools, media, and community\", metadata={'source': 'Climate Change.pdf', 'page': 3}),\n",
       " Document(page_content='organizations can play a vital role in raising awareness about the causes and \\nimpacts of climate change and promoting actions that individuals can take to \\nreduce their carbon footprint. This includes simple measures such as reducing \\nenergy consumption, usi ng public transportation, recycling, and supporting \\nsustainable food practices.  \\n \\nBehavioral and cultural shifts are essential for achieving long -term climate \\ngoals. Individuals can make a significant impact by adopting sustainable \\nlifestyle choices, such as reducing meat consumption, minimizing waste, and \\nsupporting renewable energy. B usinesses also have a critical role to play in \\naddressing climate change. Corporate sustainability initiatives, such as reducing \\ngreenhouse gas emissions, sourcing renewable energy, and implementing \\ncircular economy practices, can significantly contribute to global climate \\nefforts.  \\n \\nInnovation and technology are at the heart of addressing climate change. \\nRenewable energy technologies, such as solar and wind power, have become \\nmore efficient and cost -effective, making them viable alternatives to fossil \\nfuels. Advances in energy storage , such as batteries and pumped hydro storage, \\nare crucial for managing the intermittency of renewable energy sources. Smart \\ngrid technology, which enables real -time monitoring and management of \\nelectricity demand, can enhance the efficiency and reliability  of power systems.  \\n \\nCarbon capture and storage (CCS) technology is another important tool for \\nmitigating climate change. By capturing CO2 emissions from power plants and \\nindustrial processes and storing them underground, CCS can significantly \\nreduce the amount of CO2 released  into the atmosphere. Additionally, \\nemerging technologies, such as direct air capture, which removes CO2 directly \\nfrom the air, have the potential to play a significant role in achieving net -zero \\nemissions.  \\n \\nInnovation is not limited to technology; it also includes new approaches to \\npolicy, finance, and governance. For example, green finance initiatives, such as \\ngreen bonds and climate investment funds, can mobilize private capital for', metadata={'source': 'Climate Change.pdf', 'page': 4}),\n",
       " Document(page_content=\"climate -friendly projects. Collaborative governance models that involve \\nmultiple stakeholders, including governments, businesses, and civil society, can \\nensure that climate policies are inclusive and effective.  \\n \\nThe journey towards a sustainable future is complex and challenging, but it is \\none that we must undertake for the well -being of our planet and future \\ngenerations. Climate change poses significant risks, but it also presents \\nopportunities for innovation, ec onomic growth, and social progress. By \\nembracing renewable energy, enhancing energy efficiency, protecting natural \\necosystems, and fostering sustainable practices, we can create a resilient and \\nsustainable world.  \\n \\nIn conclusion, climate change is an urgent and multifaceted issue that requires \\na coordinated global response. The science is clear: human activities are driving \\nrapid changes in the Earth's climate, with far -reaching impacts on the \\nenvironment, economy, h ealth, and security. Mitigating climate change by \\nreducing greenhouse gas emissions and adapting to its impacts through \\nresilience -building measures are essential for safeguarding our future. Through \\ninternational cooperation, national commitment, local ac tion, and individual \\nresponsibility, we can address the challenges of climate change and create a \\nsustainable future for all.\", metadata={'source': 'Climate Change.pdf', 'page': 5})]"
      ]
     },
     "execution_count": 5,
     "metadata": {},
     "output_type": "execute_result"
    }
   ],
   "source": [
    "from langchain_community.document_loaders import PyPDFLoader\n",
    "\n",
    "loader = PyPDFLoader(\"Climate Change.pdf\")\n",
    "pages = loader.load_and_split()\n",
    "pages"
   ]
  },
  {
   "cell_type": "code",
   "execution_count": 6,
   "metadata": {},
   "outputs": [
    {
     "name": "stdout",
     "output_type": "stream",
     "text": [
      "Human: \n",
      "Answer the question based on the context below. If you can't \n",
      "answer the question, reply \"I don't know\".\n",
      "\n",
      "Context:  1.2 degrees Celsius.\n",
      "\n",
      "Question: How much have global temperatures risen since the late 19th century?\n",
      "\n"
     ]
    }
   ],
   "source": [
    "from langchain.prompts import ChatPromptTemplate\n",
    "\n",
    "template = \"\"\"\n",
    "Answer the question based on the context below. If you can't \n",
    "answer the question, reply \"I don't know\".\n",
    "\n",
    "Context: {context}\n",
    "\n",
    "Question: {question}\n",
    "\"\"\"\n",
    "\n",
    "prompt = ChatPromptTemplate.from_template(template)\n",
    "print(prompt.format(context=\"1.2 degrees Celsius.\", question=\"How much have global temperatures risen since the late 19th century?\"))"
   ]
  },
  {
   "cell_type": "code",
   "execution_count": 7,
   "metadata": {},
   "outputs": [],
   "source": [
    "chain = prompt | model | parser"
   ]
  },
  {
   "cell_type": "code",
   "execution_count": 8,
   "metadata": {},
   "outputs": [
    {
     "data": {
      "text/plain": [
       "'Sure, I\\'d be happy to help! Based on the context you provided, the answer to the question \"How much have global temperatures risen since the late 19th century?\" is:\\n\\nAccording to NASA, the average global temperature has risen by about 1.2 degrees Celsius (2.2 degrees Fahrenheit) since the late 19th century. This is based on data from weather stations, satellite measurements, and other sources.'"
      ]
     },
     "execution_count": 8,
     "metadata": {},
     "output_type": "execute_result"
    }
   ],
   "source": [
    "chain.invoke({\n",
    "    \"context\": \"1.2 degrees Celsius\",\n",
    "    \"question\": \"How much have global temperatures risen since the late 19th century?\"\n",
    "})"
   ]
  },
  {
   "cell_type": "code",
   "execution_count": 9,
   "metadata": {},
   "outputs": [
    {
     "data": {
      "text/plain": [
       "{'title': 'PromptInput',\n",
       " 'type': 'object',\n",
       " 'properties': {'context': {'title': 'Context', 'type': 'string'},\n",
       "  'question': {'title': 'Question', 'type': 'string'}}}"
      ]
     },
     "execution_count": 9,
     "metadata": {},
     "output_type": "execute_result"
    }
   ],
   "source": [
    "chain.input_schema.schema()"
   ]
  },
  {
   "cell_type": "code",
   "execution_count": 10,
   "metadata": {},
   "outputs": [],
   "source": [
    "from langchain_community.vectorstores import DocArrayInMemorySearch\n",
    "import docarray\n",
    "# Assuming pages and embeddings are already defined\n",
    "vectorstore = DocArrayInMemorySearch.from_documents(\n",
    "    pages,\n",
    "    embedding=embeddings\n",
    ")\n"
   ]
  },
  {
   "cell_type": "code",
   "execution_count": 11,
   "metadata": {},
   "outputs": [
    {
     "data": {
      "text/plain": [
       "[Document(page_content='organizations can play a vital role in raising awareness about the causes and \\nimpacts of climate change and promoting actions that individuals can take to \\nreduce their carbon footprint. This includes simple measures such as reducing \\nenergy consumption, usi ng public transportation, recycling, and supporting \\nsustainable food practices.  \\n \\nBehavioral and cultural shifts are essential for achieving long -term climate \\ngoals. Individuals can make a significant impact by adopting sustainable \\nlifestyle choices, such as reducing meat consumption, minimizing waste, and \\nsupporting renewable energy. B usinesses also have a critical role to play in \\naddressing climate change. Corporate sustainability initiatives, such as reducing \\ngreenhouse gas emissions, sourcing renewable energy, and implementing \\ncircular economy practices, can significantly contribute to global climate \\nefforts.  \\n \\nInnovation and technology are at the heart of addressing climate change. \\nRenewable energy technologies, such as solar and wind power, have become \\nmore efficient and cost -effective, making them viable alternatives to fossil \\nfuels. Advances in energy storage , such as batteries and pumped hydro storage, \\nare crucial for managing the intermittency of renewable energy sources. Smart \\ngrid technology, which enables real -time monitoring and management of \\nelectricity demand, can enhance the efficiency and reliability  of power systems.  \\n \\nCarbon capture and storage (CCS) technology is another important tool for \\nmitigating climate change. By capturing CO2 emissions from power plants and \\nindustrial processes and storing them underground, CCS can significantly \\nreduce the amount of CO2 released  into the atmosphere. Additionally, \\nemerging technologies, such as direct air capture, which removes CO2 directly \\nfrom the air, have the potential to play a significant role in achieving net -zero \\nemissions.  \\n \\nInnovation is not limited to technology; it also includes new approaches to \\npolicy, finance, and governance. For example, green finance initiatives, such as \\ngreen bonds and climate investment funds, can mobilize private capital for', metadata={'source': 'Climate Change.pdf', 'page': 4}),\n",
       " Document(page_content=\"Climate Change  \\nClimate change is one of the most significant and pressing issues of our time, \\naffecting every aspect of our lives, from the environment to the economy, \\nhealth, and security. It refers to the long -term alteration of temperature and \\ntypical weather patterns  in a place. While climate change is a natural \\nphenomenon, human activities, particularly since the Industrial Revolution, \\nhave significantly accelerated its pace, leading to unprecedented and \\npotentially catastrophic changes in the Earth's climate system.  \\n \\nThe scientific consensus on climate change is clear: the Earth's climate is \\nwarming, and human activities are the primary driver. The Intergovernmental \\nPanel on Climate Change (IPCC), a leading authority on climate science, has \\nreported that global tempera tures have risen by approximately 1.2 degrees \\nCelsius (2.2 degrees Fahrenheit) since the late 19th century. This warming \\ntrend is largely due to the increased concentration of greenhouse gases in the \\natmosphere, primarily carbon dioxide (CO2), methane (CH4 ), and nitrous oxide \\n(N2O), which trap heat from the sun and prevent it from escaping back into \\nspace.  \\n \\nThe burning of fossil fuels such as coal, oil, and natural gas for energy and \\ntransportation is the largest source of greenhouse gas emissions. \\nDeforestation, agriculture, and industrial processes also contribute significantly \\nto these emissions. The incre ase in greenhouse gases enhances the natural \\ngreenhouse effect, leading to a warming of the Earth's surface and \\natmosphere. This warming has far -reaching impacts on the planet's climate and \\necosystems.  \\n \\nOne of the most visible and immediate effects of climate change is the increase \\nin extreme weather events. Heatwaves are becoming more frequent and \\nsevere, causing widespread health problems and increasing the risk of \\nwildfires. Heavy rainfall and flooding  events are also on the rise, leading to \\nsignificant damage to infrastructure, homes, and crops. Conversely, some \\nregions are experiencing more prolonged droughts, which threaten water \\nsupplies and agricultural productivity.\", metadata={'source': 'Climate Change.pdf', 'page': 0}),\n",
       " Document(page_content=\"parks, green roofs, and permeable pavements, which can help manage \\nstormwater, reduce urban heat islands, and improve air quality. Coastal \\ncommunities can invest in protective measures, such as seawalls, flood \\nbarriers, and managed retreat, to address the risks posed by sea -level rise.  \\n \\nInternational cooperation is vital for effectively addressing climate change, as it \\nis a global issue that requires coordinated efforts across countries. The Paris \\nAgreement, adopted in 2015, represents a significant milestone in global \\nclimate action. Und er this agreement, countries have committed to limit global \\nwarming to well below 2 degrees Celsius above pre -industrial levels, with \\nefforts to limit the increase to 1.5 degrees Celsius. The agreement also \\nemphasizes the importance of adaptation, financia l support for developing \\ncountries, and regular monitoring and reporting of progress.  \\n \\nNational governments play a critical role in implementing climate policies and \\nregulations that align with their international commitments. For example, the \\nEuropean Union has set ambitious targets to reduce greenhouse gas emissions, \\nincrease renewable ene rgy use, and improve energy efficiency through its \\nEuropean Green Deal. In the United States, the Inflation Reduction Act of 2022 \\nincludes measures to reduce emissions, promote clean energy, and enhance \\nclimate resilience. China, the world's largest emitte r of greenhouse gases, has \\ncommitted to reaching peak emissions by 2030 and achieving carbon neutrality \\nby 2060.  \\n \\nLocal governments and communities also have an essential role in climate \\naction. Cities around the world are taking innovative approaches to reduce \\ntheir carbon footprint and increase resilience. For example, some cities are \\ninvesting in sustainable public  transportation systems, promoting electric \\nvehicles, and implementing energy -efficient building codes. Community -based \\ninitiatives, such as urban gardens, renewable energy cooperatives, and local \\nconservation efforts, can also contribute to climate mitiga tion and adaptation.  \\n \\nPublic awareness and education are crucial for building support for climate \\naction and encouraging sustainable behaviors. Schools, media, and community\", metadata={'source': 'Climate Change.pdf', 'page': 3}),\n",
       " Document(page_content='vulnerable. Changes in temperature and precipitation patterns can reduce crop \\nyields, disrupt food supply chains, and increase the risk of food insecurity. The \\nfishing industry is also affected, as changing ocean temperatures and \\nacidification impact fish populations and marine ecosystems. Furthermore, the \\nincreased frequency and severity of extreme weather events can cause \\nextensive damage to infrastructure, homes, and businesses, leading to \\nsubstantial economic losses.  \\n \\nAddressing climate change requires a comprehensive and multi -faceted \\napproach that includes both mitigation and adaptation strategies. Mitigation \\ninvolves reducing greenhouse gas emissions to limit the extent of future \\nclimate change. This can be achieved through various means, such as \\ntransitioning to renewable energy sources like solar, wind, and hydropower, \\nimproving energy efficiency in buildings, transportation, and industry, and \\nprotecting and restoring forests and other natural carbon sinks.  \\n \\nCarbon pricing mechanisms, such as carbon taxes and cap -and-trade systems, \\nare also essential tools for reducing emissions. By putting a price on carbon, \\nthese mechanisms create financial incentives for businesses and individuals to \\nreduce their carbon foo tprint. Additionally, technological innovations, such as \\ncarbon capture and storage (CCS), which involves capturing CO2 emissions \\nfrom power plants and industrial processes and storing them underground, can \\nplay a critical role in mitigating climate change . \\n \\nAdaptation, on the other hand, involves making adjustments to social, \\neconomic, and environmental practices to minimize the damage caused by \\nclimate change and take advantage of any potential benefits. This includes \\nbuilding resilient infrastructure that c an withstand extreme weather events, \\ndeveloping drought -resistant crops, and implementing water management \\npractices that ensure a reliable water supply in the face of changing \\nprecipitation patterns.  \\n \\nUrban planning is also crucial for adaptation. Cities can reduce their \\nvulnerability to climate change by integrating green infrastructure, such as', metadata={'source': 'Climate Change.pdf', 'page': 2})]"
      ]
     },
     "execution_count": 11,
     "metadata": {},
     "output_type": "execute_result"
    }
   ],
   "source": [
    "retriever = vectorstore.as_retriever()\n",
    "\n",
    "vectorstore.as_retriever().invoke(\"climate\")"
   ]
  },
  {
   "cell_type": "code",
   "execution_count": 12,
   "metadata": {},
   "outputs": [],
   "source": [
    "from operator import itemgetter\n",
    "from langchain.schema.runnable import RunnableMap, RunnablePassthrough, RunnableLambda\n",
    "chain = (\n",
    "    {\n",
    "        \"context\": itemgetter(\"question\") | retriever,\n",
    "        \"question\": itemgetter(\"question\"),\n",
    "    }\n",
    "    | prompt\n",
    "    | model\n",
    "    | parser\n",
    ")"
   ]
  },
  {
   "cell_type": "code",
   "execution_count": 13,
   "metadata": {},
   "outputs": [
    {
     "name": "stdout",
     "output_type": "stream",
     "text": [
      "Question: What is the greenhouse effect?\n",
      "Answer: The greenhouse effect is a natural phenomenon where certain gases in the Earth's atmosphere, such as carbon dioxide (CO2), methane (CH4), and nitrous oxide (N2O), trap heat from the sun and prevent it from escaping back into space. This trapped heat warms the Earth's surface and atmosphere, contributing to the planet's overall temperature.\n",
      "\n",
      "The greenhouse effect is important for maintaining a habitable climate on Earth. Without it, the planet would be much colder and less hospitable to life. However, the increased concentration of greenhouse gases in the atmosphere due to human activities such as burning fossil fuels, deforestation, and agriculture has accelerated the greenhouse effect, leading to unprecedented and potentially catastrophic changes in the Earth's climate system.\n",
      "\n",
      "The main greenhouse gases are:\n",
      "\n",
      "1. Carbon dioxide (CO2): The most abundant greenhouse gas, released through human activities such as burning fossil fuels, deforestation, and cement production.\n",
      "2. Methane (CH4): Released through activities like livestock farming, natural gas production and transport, and landfills.\n",
      "3. Nitrous oxide (N2O): Produced through human activities such as agriculture, industrial processes, and the use of nitrogen-based fertilizers.\n",
      "\n",
      "The greenhouse effect is responsible for a number of observable changes in the Earth's climate, including:\n",
      "\n",
      "1. Global warming: The overall warming of the planet due to the increased concentration of greenhouse gases in the atmosphere.\n",
      "2. Changes in weather patterns: Shifts in temperature and precipitation patterns, leading to more frequent and severe heatwaves, droughts, and heavy rainfall events.\n",
      "3. Sea-level rise: The melting of polar ice caps and glaciers, as well as the thermal expansion of seawater as it warms, causing sea levels to rise.\n",
      "4. Extreme weather events: Increased frequency and severity of extreme weather events such as hurricanes, wildfires, and floods.\n",
      "\n",
      "The scientific consensus on climate change is clear: the Earth's climate is warming, and human activities are the primary driver of this warming trend. It is essential to reduce greenhouse gas emissions through a transition to renewable energy sources, carbon capture and storage technologies, and sustainable land use practices to mitigate the worst impacts of climate change.\n",
      "\n",
      "Question: What is the primary driver of recent climate change?\n",
      "Answer: Answer: The primary driver of recent climate change is the increasing levels of greenhouse gases in the Earth's atmosphere, primarily carbon dioxide (CO2), which is caused by human activities such as burning fossil fuels, deforestation, and land use changes. These greenhouse gases trap heat from the sun, leading to a warming effect on the planet, including rising temperatures, melting of glaciers and polar ice caps, and more frequent and severe weather events.\n",
      "\n",
      "According to the Intergovernmental Panel on Climate Change (IPCC), the total radiative forcing -the difference between the amount of energy entering and leaving the Earth's atmosphere- attributed to human activities since 1750 is about 2.5 watts per square meter (W/m²). Of this, 1.9 W/m² is from greenhouse gases, primarily CO2, and 0.6 W/m² is from other anthropogenic factors such as aerosols and land use changes.\n",
      "\n",
      "The increase in atmospheric CO2 concentration is the largest contributor to climate change, with the concentration increasing by about 40% since preindustrial times, primarily due to fossil fuel burning and land use changes. The amount of CO2 in the atmosphere has increased from about 280 parts per million (ppm) in the mid-19th century to over 415 ppm today, with most of this increase occurring since 1950.\n",
      "\n",
      "Other greenhouse gases, such as methane and nitrous oxide, also contribute to climate change, but their impact is smaller compared to CO2. However, these gases are also increasing in the atmosphere due to human activities such as agriculture, waste management, and deforestation.\n",
      "\n"
     ]
    }
   ],
   "source": [
    "# Assuming the chain function and other necessary imports are defined as previously discussed\n",
    "\n",
    "# Example questions\n",
    "questions = [\n",
    "    \"What is the greenhouse effect?\",\n",
    "    \"What is the primary driver of recent climate change?\"\n",
    "]\n",
    "\n",
    "# Iterate through the questions and process each one with the chain function\n",
    "for question in questions:\n",
    "    print(f\"Question: {question}\")\n",
    "    print(f\"Answer: {chain.invoke({'question': question})}\")\n",
    "    print()"
   ]
  },
  {
   "cell_type": "code",
   "execution_count": 14,
   "metadata": {},
   "outputs": [
    {
     "data": {
      "text/plain": [
       "[\"The greenhouse effect is a natural phenomenon where greenhouse gases in the Earth's atmosphere trap heat from the sun, warming the planet. The scientific consensus is clear: the Earth's climate is warming, and human activities are the primary driver of this warming trend. The Intergovernmental Panel on Climate Change (IPCC) reports that global temperatures have risen by approximately 1.2 degrees Celsius (2.2 degrees Fahrenheit) since the late 19th century, primarily due to the increased concentration of greenhouse gases in the atmosphere, such as carbon dioxide (CO2), methane (CH4), and nitrous oxide (N2O). These gases trap heat from the sun and prevent it from escaping back into space.\\n\\nThe burning of fossil fuels for energy and transportation is the largest source of greenhouse gas emissions, followed by deforestation, agriculture, and industrial processes. The increase in greenhouse gases enhances the natural greenhouse effect, leading to a warming of the Earth's surface and atmosphere. This warming has far-reaching impacts on the planet's climate and ecosystems.\\n\\nOne of the most visible and immediate effects of climate change is the increase in extreme weather events. Heatwaves are becoming more frequent and severe, causing widespread health problems and increasing the risk of wildfires. Heavy rainfall and flooding events are also on the rise, leading to significant damage to infrastructure, homes, and crops. Conversely, some regions are experiencing more prolonged droughts, which threaten water supplies and agricultural productivity.\\n\\nIn addition to these impacts, climate change is also causing long-term changes in weather patterns. For example, many regions are experiencing shifts in their seasonal cycles, with spring arriving earlier and winters becoming milder. These changes can disrupt ecosystems and agriculture as plants and animals may not be able to adapt quickly enough to the new conditions.\\n\\nThe warming of the planet also has profound effects on the natural world. Many species are being forced to migrate to higher altitudes or latitudes in search of suitable habitats, and some are facing extinction due to the rapid pace of change. Coral reefs, which are particularly sensitive to temperature changes, are experiencing widespread bleaching and die-offs, threatening the diverse marine life that depends on them. Ocean acidification, caused by the absorption of excess CO2 by seawater, further exacerbates the stress on marine ecosystems, particularly shellfish and other organisms that rely on calcium carbonate for their shells and skeletons.\\n\\nHuman health is also at risk due to climate change. Rising temperatures can exacerbate respiratory and cardiovascular diseases, increase the prevalence of heat-related illnesses, and extend the range of disease-carrying insects like mosquitoes, leading to the spread of diseases such as malaria and dengue fever. Additionally, extreme weather events can cause injury, displacement, and mental health issues.\\n\\nThe economic impacts of climate change are significant and wide-ranging. Agriculture, which is highly dependent on climate conditions, is particularly vulnerable to the effects of climate change. Extreme weather events can damage crops, infrastructure, and property, leading to significant economic losses. Climate change also poses a threat to coastal communities, as rising sea levels can lead to more frequent and severe coastal flooding, erosion, and saltwater intrusion into freshwater resources.\\n\\nIn conclusion, the greenhouse effect is a natural phenomenon that has been enhanced by human activities, leading to significant warming of the Earth's climate system. The impacts of climate change are far-reaching and have serious consequences for the planet's ecosystems, human health, and economy. It is essential to take immediate action to reduce greenhouse gas emissions and mitigate the worst effects of climate change.\",\n",
       " 'According to the text, the primary driver of recent climate change is the increasing levels of greenhouse gases in the atmosphere, primarily carbon dioxide (CO2), which trap heat and cause the Earth\\'s temperature to rise. The text states, \"The primary driver of climate change is the increasing levels of greenhouse gases in the atmosphere, particularly carbon dioxide (CO2).\" This suggests that human activities such as burning fossil fuels and deforestation are the main cause of the increase in CO2 emissions and subsequent climate change.']"
      ]
     },
     "execution_count": 14,
     "metadata": {},
     "output_type": "execute_result"
    }
   ],
   "source": [
    "chain.batch([{\"question\": q} for q in questions])"
   ]
  },
  {
   "cell_type": "code",
   "execution_count": null,
   "metadata": {},
   "outputs": [],
   "source": []
  }
 ],
 "metadata": {
  "kernelspec": {
   "display_name": ".venv",
   "language": "python",
   "name": "python3"
  },
  "language_info": {
   "codemirror_mode": {
    "name": "ipython",
    "version": 3
   },
   "file_extension": ".py",
   "mimetype": "text/x-python",
   "name": "python",
   "nbconvert_exporter": "python",
   "pygments_lexer": "ipython3",
   "version": "3.12.3"
  }
 },
 "nbformat": 4,
 "nbformat_minor": 2
}
